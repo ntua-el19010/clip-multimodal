{
  "nbformat": 4,
  "nbformat_minor": 0,
  "metadata": {
    "colab": {
      "provenance": [],
      "gpuType": "T4"
    },
    "kernelspec": {
      "name": "python3",
      "display_name": "Python 3"
    },
    "language_info": {
      "name": "python"
    },
    "accelerator": "GPU"
  },
  "cells": [
    {
      "cell_type": "markdown",
      "source": [
        "# Initialization"
      ],
      "metadata": {
        "id": "79yysQnU-GgE"
      }
    },
    {
      "cell_type": "code",
      "execution_count": null,
      "metadata": {
        "id": "K6In8XSCSIdK"
      },
      "outputs": [],
      "source": [
        "! pip install ftfy regex tqdm\n",
        "! pip install git+https://github.com/openai/CLIP.git\n",
        "\n",
        "import numpy as np\n",
        "import torch\n",
        "import torch.nn as nn\n",
        "import torchvision\n",
        "from pkg_resources import packaging\n",
        "import matplotlib.pyplot as plt\n",
        "import clip\n",
        "from PIL import Image\n",
        "import os\n",
        "from glob import glob\n",
        "\n",
        "model, preprocess = clip.load(\"RN50x4\")\n",
        "print(\"Input resolution:\", model.visual.input_resolution)"
      ]
    },
    {
      "cell_type": "markdown",
      "source": [
        "# Which neurons activate?"
      ],
      "metadata": {
        "id": "oJ7UudhV9lGJ"
      }
    },
    {
      "cell_type": "code",
      "source": [
        "class SaveActivations:\n",
        "    def __init__(self):\n",
        "        self.activations = None\n",
        "\n",
        "    def __call__(self, module, input, output):\n",
        "        self.activations = output.clone()\n",
        "\n",
        "# Create an instance of the hook\n",
        "hook = SaveActivations()"
      ],
      "metadata": {
        "id": "S4WylrQWbOWH"
      },
      "execution_count": null,
      "outputs": []
    },
    {
      "cell_type": "code",
      "source": [
        "class ModifiedResNetTraverser:\n",
        "    def __init__(self, model):\n",
        "        self.model = model\n",
        "        self.target_layer_name = None\n",
        "        self.target_layer = None\n",
        "\n",
        "    def find_layer_by_name(self, target_layer_name):\n",
        "        self.target_layer_name = target_layer_name\n",
        "        self.target_layer = None\n",
        "        self._traverse(self.model, target_layer_name.split('.'))\n",
        "        return self.target_layer\n",
        "\n",
        "    def _traverse(self, module, layer_names):\n",
        "        if not layer_names:\n",
        "            # If there are no more layer names, we've reached the target layer\n",
        "            self.target_layer = module\n",
        "            return\n",
        "\n",
        "        current_layer_name = layer_names[0]\n",
        "        remaining_layer_names = layer_names[1:]\n",
        "\n",
        "        for name, sub_module in module.named_children():\n",
        "            if name == current_layer_name:\n",
        "                # Continue traversing with the next layer name\n",
        "                self._traverse(sub_module, remaining_layer_names)\n",
        "\n",
        "# Example usage\n",
        "traverser = ModifiedResNetTraverser(model)\n",
        "target_layer_name = \"visual.layer4.5.conv3\"\n",
        "last_conv_layer = traverser.find_layer_by_name(target_layer_name)"
      ],
      "metadata": {
        "id": "tdKJ99ZT-HpN"
      },
      "execution_count": null,
      "outputs": []
    },
    {
      "cell_type": "code",
      "source": [
        "hook_handle = last_conv_layer.register_forward_hook(hook)"
      ],
      "metadata": {
        "id": "ciyJOP1s5Qi7"
      },
      "execution_count": null,
      "outputs": []
    },
    {
      "cell_type": "code",
      "source": [
        "from PIL import Image\n",
        "\n",
        "original_images = []\n",
        "images = []\n",
        "\n",
        "for filename in [filename for filename in os.listdir(\"/content/trump1\") if filename.endswith(\".png\") or filename.endswith(\".jpg\")]:\n",
        "    image = Image.open(os.path.join(\"/content/trump1\", filename)).convert(\"RGB\")\n",
        "\n",
        "    original_images.append(image)\n",
        "    images.append(preprocess(image))\n",
        "\n",
        "for filename in [filename for filename in os.listdir(\"/content/trump2\") if filename.endswith(\".png\") or filename.endswith(\".jpg\")]:\n",
        "    image = Image.open(os.path.join(\"/content/trump2\", filename)).convert(\"RGB\")\n",
        "\n",
        "    original_images.append(image)\n",
        "    images.append(preprocess(image))"
      ],
      "metadata": {
        "id": "n9TxQRk8Cn_g"
      },
      "execution_count": null,
      "outputs": []
    },
    {
      "cell_type": "code",
      "source": [
        "image_input = torch.tensor(np.stack(images)).cuda()\n",
        "image_features = model.encode_image(image_input)"
      ],
      "metadata": {
        "id": "puDHv2MtCdf8"
      },
      "execution_count": null,
      "outputs": []
    },
    {
      "cell_type": "code",
      "source": [
        "activations = hook.activations\n",
        "activations.size()"
      ],
      "metadata": {
        "id": "w2QeJ1pxDXGy"
      },
      "execution_count": null,
      "outputs": []
    },
    {
      "cell_type": "code",
      "source": [
        "max_values, _ = torch.max(activations.view(6, 2560, -1), dim=-1, keepdim=True)\n",
        "max_values.size()"
      ],
      "metadata": {
        "id": "MeH8ct-MKZGj"
      },
      "execution_count": null,
      "outputs": []
    },
    {
      "cell_type": "code",
      "source": [
        "import torch\n",
        "\n",
        "# Squeeze the tensor to remove the singleton dimension (size 1)\n",
        "input_tensor_squeezed = max_values.squeeze(dim=-1)\n",
        "\n",
        "# Calculate the maximum value along the second dimension\n",
        "max_values, indices = torch.topk(input_tensor_squeezed, k=10)\n",
        "\n",
        "# Now 'max_values' has size [6, 5] and 'indices' has size [6, 5]\n",
        "print(max_values.size())\n",
        "print(indices)\n",
        "print(max_values)"
      ],
      "metadata": {
        "id": "DlZGQUiqLHeC"
      },
      "execution_count": null,
      "outputs": []
    },
    {
      "cell_type": "markdown",
      "source": [
        "# Activation of neuron for different images"
      ],
      "metadata": {
        "id": "CRU6I29wdj9M"
      }
    },
    {
      "cell_type": "markdown",
      "source": [
        "Test approach on one folder"
      ],
      "metadata": {
        "id": "pSIooMssro3P"
      }
    },
    {
      "cell_type": "code",
      "source": [
        "from google.colab import drive\n",
        "drive.mount('/content/drive/')\n",
        "trump_files = glob(os.path.join('/content/drive/MyDrive/patrec/trump', \"**\"))"
      ],
      "metadata": {
        "id": "BWpFWilcBu_f"
      },
      "execution_count": null,
      "outputs": []
    },
    {
      "cell_type": "code",
      "source": [
        "class SaveActivations:\n",
        "    def __init__(self):\n",
        "        self.activations = None\n",
        "\n",
        "    def __call__(self, module, input, output):\n",
        "        self.activations = output.clone()\n",
        "\n",
        "# Create an instance of the hook\n",
        "hook = SaveActivations()"
      ],
      "metadata": {
        "id": "w0Rk0ONNdj9M"
      },
      "execution_count": null,
      "outputs": []
    },
    {
      "cell_type": "code",
      "source": [
        "class ModifiedResNetTraverser:\n",
        "    def __init__(self, model):\n",
        "        self.model = model\n",
        "        self.target_layer_name = None\n",
        "        self.target_layer = None\n",
        "\n",
        "    def find_layer_by_name(self, target_layer_name):\n",
        "        self.target_layer_name = target_layer_name\n",
        "        self.target_layer = None\n",
        "        self._traverse(self.model, target_layer_name.split('.'))\n",
        "        return self.target_layer\n",
        "\n",
        "    def _traverse(self, module, layer_names):\n",
        "        if not layer_names:\n",
        "            # If there are no more layer names, we've reached the target layer\n",
        "            self.target_layer = module\n",
        "            return\n",
        "\n",
        "        current_layer_name = layer_names[0]\n",
        "        remaining_layer_names = layer_names[1:]\n",
        "\n",
        "        for name, sub_module in module.named_children():\n",
        "            if name == current_layer_name:\n",
        "                # Continue traversing with the next layer name\n",
        "                self._traverse(sub_module, remaining_layer_names)\n",
        "\n",
        "# Example usage\n",
        "traverser = ModifiedResNetTraverser(model)\n",
        "target_layer_name = \"visual.layer4.5.conv3\"\n",
        "last_conv_layer = traverser.find_layer_by_name(target_layer_name)"
      ],
      "metadata": {
        "id": "48UA_zsFdj9M"
      },
      "execution_count": null,
      "outputs": []
    },
    {
      "cell_type": "code",
      "source": [
        "hook_handle = last_conv_layer.register_forward_hook(hook)"
      ],
      "metadata": {
        "id": "VIvM0UbJdj9M"
      },
      "execution_count": null,
      "outputs": []
    },
    {
      "cell_type": "code",
      "source": [
        "from PIL import Image\n",
        "\n",
        "original_images = []\n",
        "images = []\n",
        "\n",
        "for filename in [filename for filename in os.listdir(\"/content/trump/profile\") if filename.endswith(\".png\") or filename.endswith(\".jpg\")]:\n",
        "    image = Image.open(os.path.join(\"/content/trump/profile\", filename)).convert(\"RGB\")\n",
        "\n",
        "    original_images.append(image)\n",
        "    images.append(preprocess(image))\n",
        "\n",
        "image_input = torch.tensor(np.stack(images)).cuda()\n",
        "image_features = model.encode_image(image_input)\n",
        "\n",
        "activations = hook.activations\n",
        "trump_activations = activations[:,89,:,:]\n",
        "\n",
        "mean_values = torch.mean(trump_activations, dim=(1,2), keepdim=True)\n",
        "values = mean_values[:,0,0].cpu().detach().numpy()\n",
        "print(values)"
      ],
      "metadata": {
        "id": "AEINBUJbdj9M"
      },
      "execution_count": null,
      "outputs": []
    },
    {
      "cell_type": "markdown",
      "source": [
        "# Activation of neuron for different image categories\n",
        "\n",
        "\n"
      ],
      "metadata": {
        "id": "mX_52kyUrS4w"
      }
    },
    {
      "cell_type": "markdown",
      "source": [
        "Present results for Donald Trump and Mental Illness in pretty diagrams"
      ],
      "metadata": {
        "id": "-FzN9OO7rhu6"
      }
    },
    {
      "cell_type": "code",
      "source": [
        "import os\n",
        "import torch\n",
        "import numpy as np\n",
        "import pandas as pd\n",
        "from PIL import Image\n",
        "import seaborn as sns\n",
        "import matplotlib.pyplot as plt\n",
        "\n",
        "subfolder_names = [\"profile\", \"art\", \"text\", \"partial\", \"politics\", \"non political\", \"rights\", \"music-games\"]\n",
        "data = {\"Category\": [], \"Activation Values\": []}\n",
        "\n",
        "for subfolder in subfolder_names:\n",
        "    folder_path = os.path.join(\"/content/drive/MyDrive/patrec/trump\", subfolder)\n",
        "\n",
        "    original_images = []\n",
        "    images = []\n",
        "\n",
        "    for filename in [filename for filename in os.listdir(folder_path) if filename.endswith(\".png\") or filename.endswith(\".jpg\")]:\n",
        "        image = Image.open(os.path.join(folder_path, filename)).convert(\"RGB\")\n",
        "\n",
        "        original_images.append(image)\n",
        "        images.append(preprocess(image))\n",
        "\n",
        "    image_input = torch.tensor(np.stack(images)).cuda()\n",
        "    image_features = model.encode_image(image_input)\n",
        "\n",
        "    activations = hook.activations\n",
        "    trump_activations = activations[:, 89, :, :]\n",
        "\n",
        "    #mean:\n",
        "    #mean_values = torch.mean(mental_activations, dim=(1, 2), keepdim=True)\n",
        "    #values = mean_values[:, 0, 0].cpu().detach().numpy()\n",
        "    #max:\n",
        "    max_values, _ = torch.max(trump_activations.view(trump_activations.size(0), -1), dim=1)\n",
        "    values = max_values.cpu().detach().numpy()\n",
        "    data['Category'].extend([subfolder] * len(values))\n",
        "    data['Activation Values'].extend(values)\n",
        "\n",
        "df = pd.DataFrame(data)\n",
        "\n",
        "# Create a displot\n",
        "sns.displot(data=df, x=\"Activation Values\", hue=\"Category\", kind=\"kde\", fill=True)\n",
        "\n",
        "# Add labels and title\n",
        "plt.xlabel('Activation Values')\n",
        "plt.ylabel('# samples')\n",
        "plt.title('Related to Donald Trump')\n",
        "plt.xlim((min(df['Activation Values']),max(df['Activation Values'])))\n",
        "plt.show()"
      ],
      "metadata": {
        "id": "ZgnS6q1cvSn-"
      },
      "execution_count": null,
      "outputs": []
    },
    {
      "cell_type": "code",
      "source": [
        "# Create a displot\n",
        "sns.displot(data=df, x=\"Activation Values\", hue=\"Category\", kind=\"kde\", fill=True, multiple=\"fill\", palette='Set3', height=4, aspect=3)\n",
        "\n",
        "# Add labels and title\n",
        "plt.xlabel('Activation Values')\n",
        "plt.ylabel('Conditional Probability')\n",
        "plt.title('Related to Donald Trump')\n",
        "plt.xlim((min(df['Activation Values']),max(df['Activation Values'])))\n",
        "plt.show()"
      ],
      "metadata": {
        "id": "F_GaqbSr0THh"
      },
      "execution_count": null,
      "outputs": []
    },
    {
      "cell_type": "code",
      "source": [
        "import os\n",
        "import torch\n",
        "import numpy as np\n",
        "import pandas as pd\n",
        "from PIL import Image\n",
        "import seaborn as sns\n",
        "import matplotlib.pyplot as plt\n",
        "\n",
        "subfolder_names = [\"depression\", \"anxiety\", \"bad feeling\", \"psychology\", \"drugs\", \"unrelated\", \"travel-food-pet\", \"music-sports\"]\n",
        "data = {\"Category\": [], \"Activation Values\": []}\n",
        "\n",
        "for subfolder in subfolder_names:\n",
        "    folder_path = os.path.join(\"/content/drive/MyDrive/patrec/mental illness\", subfolder)\n",
        "\n",
        "    original_images = []\n",
        "    images = []\n",
        "\n",
        "    for filename in [filename for filename in os.listdir(folder_path) if filename.endswith(\".png\") or filename.endswith(\".jpg\")]:\n",
        "        image = Image.open(os.path.join(folder_path, filename)).convert(\"RGB\")\n",
        "\n",
        "        original_images.append(image)\n",
        "        images.append(preprocess(image))\n",
        "\n",
        "    image_input = torch.tensor(np.stack(images)).cuda()\n",
        "    image_features = model.encode_image(image_input)\n",
        "\n",
        "    activations = hook.activations\n",
        "    mental_activations = activations[:, 2191, :, :]\n",
        "\n",
        "    #mean:\n",
        "    #mean_values = torch.mean(mental_activations, dim=(1, 2), keepdim=True)\n",
        "    #values = mean_values[:, 0, 0].cpu().detach().numpy()\n",
        "    #max:\n",
        "    max_values, _ = torch.max(mental_activations.view(mental_activations.size(0), -1), dim=1)\n",
        "    values = max_values.cpu().detach().numpy()\n",
        "    data['Category'].extend([subfolder] * len(values))\n",
        "    data['Activation Values'].extend(values)\n",
        "\n",
        "df = pd.DataFrame(data)\n",
        "\n",
        "# Create a displot\n",
        "sns.displot(data=df, x=\"Activation Values\", hue=\"Category\", kind=\"kde\", fill=True)\n",
        "\n",
        "# Add labels and title\n",
        "plt.xlabel('Activation Values')\n",
        "plt.ylabel('# samples')\n",
        "plt.title('Related to Mental Illness')\n",
        "plt.xlim((min(df['Activation Values']),max(df['Activation Values'])))\n",
        "plt.show()"
      ],
      "metadata": {
        "id": "1Ynk-cdZf_Bc"
      },
      "execution_count": null,
      "outputs": []
    },
    {
      "cell_type": "code",
      "source": [
        "# Create a displot\n",
        "sns.displot(data=df, x=\"Activation Values\", hue=\"Category\", kind=\"kde\", fill=True, multiple=\"fill\", palette='Set3', height=4, aspect=3)\n",
        "\n",
        "# Add labels and title\n",
        "plt.xlabel('Activation Values')\n",
        "plt.ylabel('Conditional Probability')\n",
        "plt.title('Related to Mental Illness')\n",
        "plt.xlim((min(df['Activation Values']),max(df['Activation Values'])))\n",
        "plt.show()"
      ],
      "metadata": {
        "id": "SUln2-ZEgzD6"
      },
      "execution_count": null,
      "outputs": []
    }
  ]
}